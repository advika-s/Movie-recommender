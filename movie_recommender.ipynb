{
  "cells": [
    {
      "cell_type": "markdown",
      "metadata": {
        "id": "view-in-github",
        "colab_type": "text"
      },
      "source": [
        "<a href=\"https://colab.research.google.com/github/advika-s/Movie-recommender/blob/main/movie_recommender.ipynb\" target=\"_parent\"><img src=\"https://colab.research.google.com/assets/colab-badge.svg\" alt=\"Open In Colab\"/></a>"
      ]
    },
    {
      "cell_type": "code",
      "execution_count": null,
      "metadata": {
        "id": "a6Kbb5Ob3EOM"
      },
      "outputs": [],
      "source": [
        "import matplotlib.pyplot as plt\n",
        "import numpy as np\n",
        "\n",
        "# Given M, M_approx, O return the average squared loss over the observed entries.\n",
        "# M is an m x n 2-D numpy array containing the observed entries (with\n",
        "#   arbitrary values in the unobserved entries)\n",
        "# M_approx is an m x n 2-D numpy array representing the low-dimensional approximation\n",
        "# O is an m x n 2-D numpy array containing 0 if the entry is unobserved and\n",
        "#   1 if the entry is observed in M. O tells you which entries in M were observed\n",
        "def loss(M, M_approx, O):\n",
        "    indices = np.where(O == 1)\n",
        "    M_sum = M[indices]\n",
        "    M_approx_sum = M_approx[indices]\n",
        "    return np.sum((np.square(M_sum - M_approx_sum)))/np.sum(O)\n"
      ]
    },
    {
      "cell_type": "code",
      "execution_count": null,
      "metadata": {
        "colab": {
          "base_uri": "https://localhost:8080/"
        },
        "id": "xykP9YUf3EON",
        "outputId": "64bafee4-441e-4cf2-c9ca-778aabed7493"
      },
      "outputs": [
        {
          "output_type": "stream",
          "name": "stdout",
          "text": [
            "Function normalize_matrix is working fine!\n"
          ]
        }
      ],
      "source": [
        "def normalize_matrix(M, O):\n",
        "    indices = np.where(O == 1)\n",
        "    sum = M[indices] \n",
        "    a = np.sum(sum)/np.sum(O)\n",
        "    s = np.sqrt(np.sum(np.square(sum - a))/ np.sum(O))\n",
        "    Mn = (M - a)/s\n",
        "    return Mn\n",
        "\n",
        "# The following functions checks if your implementation of normalize_matrix is correct\n",
        "# There's no need to understand it\n",
        "def check_normalization():\n",
        "    M = np.random.rand(10, 3)\n",
        "    O = (np.random.rand(10, 3) > 0.5) + 0\n",
        "    Mn = normalize_matrix(M, O)\n",
        "    assert(abs(np.sum(Mn * O)) < 1e-6)\n",
        "    assert(abs(np.sum(Mn**2 * O) / np.sum(O) - 1) < 1e-6)\n",
        "    print(\"Function {} is working fine!\".format('normalize_matrix'))\n",
        "    \n",
        "check_normalization()"
      ]
    },
    {
      "cell_type": "code",
      "execution_count": null,
      "metadata": {
        "id": "ZsARTYV_3EOO"
      },
      "outputs": [],
      "source": [
        "# A is a m x k numpy 2-D array\n",
        "# B is a k x n numpy 2-D array\n",
        "# A and B are the low-rank matrices used to calculate M_approx\n",
        "def lorma(A, B):\n",
        "    M_approx = A@B\n",
        "    return M_approx"
      ]
    },
    {
      "cell_type": "code",
      "execution_count": null,
      "metadata": {
        "id": "eOaQP_A93EOP"
      },
      "outputs": [],
      "source": [
        "\n",
        "# Given M, O, A, B return the average squared loss over the observed entries.\n",
        "# M is an m x n 2-D numpy array containing the observed entries (with\n",
        "#   arbitrary values in the unobserved entries)\n",
        "# O is an m x n 2-D numpy array containing 0 if the entry is unobserved and\n",
        "#   1 if the entry is observed in M. O tells you which entries in M were observed\n",
        "# You would need to return two matrices as the gradients: dA & dB. dA has m x k, and dB has shape k x n.\n",
        "\n",
        "def lorma_grad(M, O, A, B):\n",
        "    Mn = lorma(A, B)\n",
        "    M_obs = np.multiply(O, M)\n",
        "    Mn_obs = np.multiply(O, Mn)\n",
        "\n",
        "\n",
        "    dL = (2*(Mn_obs - M_obs))/np.sum(O)\n",
        "    dM_A = np.transpose(B)\n",
        "    dM_B = np.transpose(A)\n",
        "\n",
        "    dA = dL @ dM_A\n",
        "    dB = dM_B @ dL\n",
        "    return dA, dB"
      ]
    },
    {
      "cell_type": "code",
      "execution_count": null,
      "metadata": {
        "id": "6GB6Kidl3EOQ"
      },
      "outputs": [],
      "source": [
        "# m, n, and k refer to the shapes of A and B\n",
        "def lorma_init(m, n, k):\n",
        "    # intialize A, B using a zero-mean unit-variance Gaussian per entry\n",
        "    A = np.random.rand(m, k)\n",
        "    B = np.random.rand(k, n)\n",
        "    # normalize the row of A and columns of B\n",
        "    A = np.divide(A, np.linalg.norm(A, axis = 1, keepdims=True))\n",
        "    B = B / np.linalg.norm(B, axis = 0,keepdims=True)\n",
        "\n",
        "\n",
        "    return A, B\n",
        "\n",
        "def check_lorma_init():\n",
        "    A, B = lorma_init(10, 7, 3)\n",
        "    assert(np.linalg.norm(np.diag(A @ A.T) - np.ones(10), 1) < 1e-6)\n",
        "    assert(np.linalg.norm(np.diag(B.T @ B) - np.ones(7), 1) < 1e-6)\n",
        "    return\n",
        "\n",
        "check_lorma_init()"
      ]
    },
    {
      "cell_type": "markdown",
      "metadata": {
        "id": "_kRK4DZhypGF"
      },
      "source": [
        "## Main Loop Implementation:\n",
        "\n",
        "<font size=3>\n",
        "\n",
        "- Call lorma_grad with O to get new gradients dA & dB for A and B\n",
        "- Perform gradient step with the externally provide list of learning rate eta\n",
        "- Every 10 epochs do:\n",
        "    - Calculate loss and append it to apperr\n",
        "    - Print most recent current loss:*print((iter + 1), ': ', apperr[-1].round(4))*"
      ]
    },
    {
      "cell_type": "code",
      "execution_count": null,
      "metadata": {
        "id": "xUj1YKCB3EOR"
      },
      "outputs": [],
      "source": [
        "# k is an integer stating the rank of your LORMA model\n",
        "# epochs is an integer stating the number of epochs to run\n",
        "# eta is a list of floats, with the learning rate for each epoch\n",
        "#   len(eta) = epochs\n",
        "\n",
        "def lorma_learn(M, O, params):\n",
        "    k, epochs, eta = params\n",
        "    m, n = M.shape\n",
        "    A, B = lorma_init(m, n, k)\n",
        "\n",
        "    apperr = []\n",
        "    M_approx = lorma(A, B)\n",
        "    l = loss(M, M_approx, O)\n",
        "    apperr.append(l)\n",
        "\n",
        "    for e in range(epochs):\n",
        "      dA, dB = lorma_grad(M, O, A, B)\n",
        "      A = A - (eta[e]*dA)\n",
        "      B = B - (eta[e]*dB)\n",
        "      if e % 10 == 0:\n",
        "        M_approx = lorma(A, B)\n",
        "        l = loss(M, M_approx, O)\n",
        "        apperr.append(l)\n",
        "        print(\"e\", ': ', e, apperr[-1].round(4))\n",
        "\n",
        "    return A, B, apperr"
      ]
    },
    {
      "cell_type": "code",
      "execution_count": null,
      "metadata": {
        "id": "xxzhMGRT3EOR",
        "colab": {
          "base_uri": "https://localhost:8080/",
          "height": 439
        },
        "outputId": "7bc028bc-0352-4de3-ecb5-260812b96a5b"
      },
      "outputs": [
        {
          "output_type": "stream",
          "name": "stdout",
          "text": [
            "e :  0 130.4032\n",
            "e :  10 0.046\n",
            "e :  20 0.042\n",
            "e :  30 0.0393\n",
            "e :  40 0.0371\n",
            "e :  50 0.0354\n",
            "e :  60 0.034\n",
            "e :  70 0.0328\n",
            "e :  80 0.0318\n",
            "e :  90 0.0309\n"
          ]
        },
        {
          "output_type": "display_data",
          "data": {
            "text/plain": [
              "<Figure size 432x288 with 1 Axes>"
            ],
            "image/png": "[encoded data removed]"
          },
          "metadata": {
            "needs_background": "light"
          }
        }
      ],
      "source": [
        "m, n, k = 100, 40, 5\n",
        "rand_seed = 10\n",
        "np.random.seed(rand_seed)\n",
        "\n",
        "def check_lorma_learn():\n",
        "    from numpy.random import binomial, randn, uniform\n",
        "    mockA, mockB = uniform(1, 2, (m, k)), uniform(-2, -1, (k, n))\n",
        "    M = mockA @ mockB + 0.01 * np.random.randn(m, n)\n",
        "    O = binomial(1, 0.5, size=M.shape)\n",
        "    epochs = 100\n",
        "    eta = 2.0 * np.ones(epochs)\n",
        "    params = k, epochs, eta\n",
        "    A, B, l = lorma_learn(M, O, params)\n",
        "    plt.plot(l , '-o')\n",
        "    return M, A, B\n",
        "\n",
        "M, A, B = check_lorma_learn()"
      ]
    },
    {
      "cell_type": "markdown",
      "metadata": {
        "id": "6izUxmor3EOR"
      },
      "source": [
        "### Visualizing the data matrix and it low-rank approximation\n",
        "\n",
        "For reference let us also visualize a random matrix from the same distribution used for initialization. "
      ]
    },
    {
      "cell_type": "code",
      "execution_count": null,
      "metadata": {
        "id": "eZRAlJSt3EOS",
        "colab": {
          "base_uri": "https://localhost:8080/",
          "height": 457
        },
        "outputId": "f70c2390-4f94-452d-e1d3-04af1511be78"
      },
      "outputs": [
        {
          "output_type": "display_data",
          "data": {
            "text/plain": [
              "<Figure size 720x4320 with 3 Axes>"
            ],
            "image/png": "[encoded data removed]"
          },
          "metadata": {
            "needs_background": "light"
          }
        }
      ],
      "source": [
        "def show_mat(X, str, ind):\n",
        "    plt.subplot(1,3,ind)\n",
        "    plt.imshow(X, cmap='hot')\n",
        "    plt.axis('off')\n",
        "    plt.title(str)\n",
        "\n",
        "Ar, Br = lorma_init(m, n, k)\n",
        "fig = plt.figure(figsize=(10,60))\n",
        "show_mat(M, 'Original Matrix', 1)\n",
        "show_mat(lorma(A, B), 'Low Rank Approximation', 2)\n",
        "show_mat(lorma(Ar, Br), 'Initial Matrix', 3)"
      ]
    },
    {
      "cell_type": "markdown",
      "metadata": {
        "id": "gF3gm5_v3EOS"
      },
      "source": [
        "<hr style=\"border:3px solid blue\"> </hr>\n",
        "\n",
        "\n",
        "## Movie Recommendation\n",
        "\n",
        "In movie recommendation, you are given data about users and their movie preferences, and you have to recommend movies that the users have not seen, and will like.\n",
        "using dataset called [MovieLens](https://grouplens.org/datasets/movielens/)."
      ]
    },
    {
      "cell_type": "code",
      "execution_count": null,
      "metadata": {
        "id": "RfDXPJ_33EOS"
      },
      "outputs": [],
      "source": [
        "\"\"\"\n",
        "In this code cell, we will first download the MovieLens data.\n",
        "We will then convert the data into a matrix form instead of a list form.\n",
        "\n",
        "The matrix will have people as rows and movies (or Movie IDs) as columns.\n",
        "\n",
        "We will also download the movie names corresponding to the movie IDs.\n",
        "\"\"\"\n",
        "\n",
        "# Imports for loading and splitting data\n",
        "from sklearn.model_selection import train_test_split\n",
        "import pandas as pd\n",
        "\n",
        "# Load the MovieLens dataset\n",
        "# Rows are users and columns are different movies\n",
        "\n",
        "# Load the data from GitHub\n",
        "movie_ratings_path = 'https://raw.githubusercontent.com/ameet-1997/Machine-Learning/master/MovieLens/ratings.csv'\n",
        "movielens_raw = pd.read_csv(movie_ratings_path)\n",
        "\n",
        "# Process the data to get it in the right format\n",
        "# The data consists of rows - (userID, movie_ID, rating, timestamp)\n",
        "# We want to convert it to a matrix where the rows are users and the columns are movies\n",
        "# We will fill missing values with -1, a value that is not present in the dataset\n",
        "missing_value = -1\n",
        "movielens_data = movielens_raw.pivot(index = 'userId', columns ='movieId', values = 'rating').fillna(missing_value).to_numpy()\n",
        "\n",
        "# Create the observed matrix O. It should be boolean matrix with True for observed entries and false otherwise\n",
        "movielens_observed = (movielens_data != -1) + 0\n",
        "\n",
        "# We'll convert the boolean matrix to an integer matrix\n",
        "movielens_observed = movielens_observed.astype(int)\n",
        "\n",
        "# Let's create a copy of the data because we'll need it later\n",
        "movielens_data_copy = movielens_data.copy()\n",
        "\n",
        "\n",
        "# Load the movie names\n",
        "# The data consists of rows which are movie IDs\n",
        "movie_names_path = 'https://raw.githubusercontent.com/ameet-1997/Machine-Learning/master/MovieLens/movies.csv'\n",
        "movie_names = pd.read_csv(movie_names_path)"
      ]
    },
    {
      "cell_type": "code",
      "execution_count": null,
      "metadata": {
        "id": "xnY5exfV3EOS",
        "scrolled": false,
        "colab": {
          "base_uri": "https://localhost:8080/",
          "height": 1000
        },
        "outputId": "09d2d82e-6491-4031-8b62-7a73fd72e7b9"
      },
      "outputs": [
        {
          "output_type": "stream",
          "name": "stdout",
          "text": [
            "e :  0 1.3936\n",
            "e :  10 0.989\n",
            "e :  20 0.9083\n",
            "e :  30 0.8727\n",
            "e :  40 0.8519\n",
            "e :  50 0.8378\n",
            "e :  60 0.8273\n",
            "e :  70 0.8188\n",
            "e :  80 0.8117\n",
            "e :  90 0.8054\n",
            "e :  100 0.7996\n",
            "e :  110 0.7942\n",
            "e :  120 0.7888\n",
            "e :  130 0.7833\n",
            "e :  140 0.7777\n",
            "e :  150 0.7718\n",
            "e :  160 0.7654\n",
            "e :  170 0.7584\n",
            "e :  180 0.7508\n",
            "e :  190 0.7424\n",
            "e :  200 0.7331\n",
            "e :  210 0.723\n",
            "e :  220 0.7121\n",
            "e :  230 0.7006\n",
            "e :  240 0.6885\n",
            "e :  250 0.6763\n",
            "e :  260 0.664\n",
            "e :  270 0.6519\n",
            "e :  280 0.6401\n",
            "e :  290 0.6286\n",
            "e :  300 0.6175\n",
            "e :  310 0.6068\n",
            "e :  320 0.5964\n",
            "e :  330 0.5863\n",
            "e :  340 0.5764\n",
            "e :  350 0.5667\n",
            "e :  360 0.5571\n",
            "e :  370 0.5477\n",
            "e :  380 0.5384\n",
            "e :  390 0.5292\n",
            "e :  400 0.5201\n",
            "e :  410 0.5111\n",
            "e :  420 0.5022\n",
            "e :  430 0.4934\n",
            "e :  440 0.4847\n",
            "e :  450 0.4761\n",
            "e :  460 0.4676\n",
            "e :  470 0.4592\n",
            "e :  480 0.4509\n",
            "e :  490 0.4427\n",
            "e :  500 0.4346\n",
            "e :  510 0.4267\n",
            "e :  520 0.4189\n",
            "e :  530 0.4112\n",
            "e :  540 0.4036\n",
            "e :  550 0.3962\n",
            "e :  560 0.389\n",
            "e :  570 0.3819\n",
            "e :  580 0.3749\n",
            "e :  590 0.3681\n",
            "e :  600 0.3614\n",
            "e :  610 0.3549\n",
            "e :  620 0.3485\n",
            "e :  630 0.3422\n",
            "e :  640 0.3361\n",
            "e :  650 0.3302\n",
            "e :  660 0.3244\n",
            "e :  670 0.3187\n",
            "e :  680 0.3132\n",
            "e :  690 0.3078\n",
            "e :  700 0.3025\n",
            "e :  710 0.2974\n",
            "e :  720 0.2923\n",
            "e :  730 0.2874\n",
            "e :  740 0.2827\n",
            "e :  750 0.278\n",
            "e :  760 0.2735\n",
            "e :  770 0.2691\n",
            "e :  780 0.2647\n",
            "e :  790 0.2605\n",
            "e :  800 0.2564\n",
            "e :  810 0.2524\n",
            "e :  820 0.2485\n",
            "e :  830 0.2447\n",
            "e :  840 0.241\n",
            "e :  850 0.2373\n",
            "e :  860 0.2338\n",
            "e :  870 0.2303\n",
            "e :  880 0.227\n",
            "e :  890 0.2237\n",
            "e :  900 0.2204\n",
            "e :  910 0.2173\n",
            "e :  920 0.2142\n",
            "e :  930 0.2112\n",
            "e :  940 0.2083\n",
            "e :  950 0.2055\n",
            "e :  960 0.2027\n",
            "e :  970 0.1999\n",
            "e :  980 0.1973\n",
            "e :  990 0.1946\n",
            "e :  1000 0.1921\n",
            "e :  1010 0.1896\n",
            "e :  1020 0.1872\n",
            "e :  1030 0.1848\n",
            "e :  1040 0.1824\n",
            "e :  1050 0.1801\n",
            "e :  1060 0.1779\n",
            "e :  1070 0.1757\n",
            "e :  1080 0.1736\n",
            "e :  1090 0.1715\n",
            "e :  1100 0.1694\n",
            "e :  1110 0.1674\n",
            "e :  1120 0.1655\n",
            "e :  1130 0.1635\n",
            "e :  1140 0.1616\n",
            "e :  1150 0.1598\n",
            "e :  1160 0.158\n",
            "e :  1170 0.1562\n",
            "e :  1180 0.1545\n",
            "e :  1190 0.1528\n",
            "e :  1200 0.1511\n",
            "e :  1210 0.1495\n",
            "e :  1220 0.1479\n",
            "e :  1230 0.1463\n",
            "e :  1240 0.1447\n",
            "e :  1250 0.1432\n",
            "e :  1260 0.1417\n",
            "e :  1270 0.1403\n",
            "e :  1280 0.1389\n",
            "e :  1290 0.1375\n",
            "e :  1300 0.1361\n",
            "e :  1310 0.1347\n",
            "e :  1320 0.1334\n",
            "e :  1330 0.1321\n",
            "e :  1340 0.1308\n",
            "e :  1350 0.1296\n",
            "e :  1360 0.1284\n",
            "e :  1370 0.1272\n",
            "e :  1380 0.126\n",
            "e :  1390 0.1248\n",
            "e :  1400 0.1237\n",
            "e :  1410 0.1225\n",
            "e :  1420 0.1214\n",
            "e :  1430 0.1204\n",
            "e :  1440 0.1193\n",
            "e :  1450 0.1182\n",
            "e :  1460 0.1172\n",
            "e :  1470 0.1162\n",
            "e :  1480 0.1152\n",
            "e :  1490 0.1142\n",
            "e :  1500 0.1133\n",
            "e :  1510 0.1123\n",
            "e :  1520 0.1114\n",
            "e :  1530 0.1105\n",
            "e :  1540 0.1096\n",
            "e :  1550 0.1087\n",
            "e :  1560 0.1079\n",
            "e :  1570 0.107\n",
            "e :  1580 0.1062\n",
            "e :  1590 0.1054\n",
            "e :  1600 0.1046\n",
            "e :  1610 0.1038\n",
            "e :  1620 0.103\n",
            "e :  1630 0.1022\n",
            "e :  1640 0.1014\n",
            "e :  1650 0.1007\n",
            "e :  1660 0.1\n",
            "e :  1670 0.0992\n",
            "e :  1680 0.0985\n",
            "e :  1690 0.0978\n",
            "e :  1700 0.0971\n",
            "e :  1710 0.0964\n",
            "e :  1720 0.0958\n",
            "e :  1730 0.0951\n",
            "e :  1740 0.0945\n",
            "e :  1750 0.0938\n",
            "e :  1760 0.0932\n",
            "e :  1770 0.0926\n",
            "e :  1780 0.092\n",
            "e :  1790 0.0914\n",
            "e :  1800 0.0908\n",
            "e :  1810 0.0902\n",
            "e :  1820 0.0896\n",
            "e :  1830 0.089\n",
            "e :  1840 0.0885\n",
            "e :  1850 0.0879\n",
            "e :  1860 0.0874\n",
            "e :  1870 0.0868\n",
            "e :  1880 0.0863\n",
            "e :  1890 0.0858\n",
            "e :  1900 0.0853\n",
            "e :  1910 0.0848\n",
            "e :  1920 0.0843\n",
            "e :  1930 0.0838\n",
            "e :  1940 0.0833\n",
            "e :  1950 0.0828\n",
            "e :  1960 0.0823\n",
            "e :  1970 0.0819\n",
            "e :  1980 0.0814\n",
            "e :  1990 0.0809\n"
          ]
        },
        {
          "output_type": "display_data",
          "data": {
            "text/plain": [
              "<Figure size 432x288 with 1 Axes>"
            ],
            "image/png": "[encoded data removed]"
          },
          "metadata": {
            "needs_background": "light"
          }
        }
      ],
      "source": [
        "\"\"\"\n",
        "We'll run LORMA on the MovieLens data\n",
        "\"\"\"\n",
        "\n",
        "rand_seed = 10\n",
        "np.random.seed(rand_seed)\n",
        "\n",
        "# Normalize the MovieLens train data\n",
        "movielens_normalized = normalize_matrix(movielens_data, movielens_observed)\n",
        "# Define the parameters for LORMA\n",
        "low_rank = 40\n",
        "# For debugging run for 100 epochs then switch back to the parameters below\n",
        "epochs = 2000\n",
        "eta = 10.0 * np.ones(epochs)\n",
        "params = low_rank, epochs, eta\n",
        "\n",
        "# Run LORMA\n",
        "A, B, losses = lorma_learn(movielens_normalized, movielens_observed, params)\n",
        "\n",
        "# Plot the losses to make sure they are decreasing\n",
        "_ = plt.plot(losses , '-o')"
      ]
    },
    {
      "cell_type": "code",
      "execution_count": null,
      "metadata": {
        "id": "B-GJ5PSU3EOT",
        "colab": {
          "base_uri": "https://localhost:8080/"
        },
        "outputId": "5a166287-073f-4079-c569-3a19a78d486e"
      },
      "outputs": [
        {
          "output_type": "stream",
          "name": "stdout",
          "text": [
            "\n",
            "User 1 liked the following:\n",
            "\n",
            "\tThe Final Girls (2015)                             rated 5.0  genres Comedy|Horror                 \n",
            "\tConan the Barbarian (2011)                         rated 5.0  genres Action|Adventure|Fantasy      \n",
            "\tI'm Still Here (2010)                              rated 5.0  genres Comedy|Drama                  \n",
            "\tThe Hungover Games (2014)                          rated 5.0  genres Comedy                        \n",
            "\tEnder's Game (2013)                                rated 5.0  genres Action|Adventure|Sci-Fi|IMAX  \n",
            "\tZombie Strippers! (2008)                           rated 5.0  genres Comedy|Horror                 \n",
            "\t10,000 BC (2008)                                   rated 4.5  genres Adventure|Romance|Thriller    \n",
            "\tFor Richer or Poorer (1997)                        rated 4.5  genres Comedy                        \n",
            "\tPiranha (Piranha 3D) (2010)                        rated 4.5  genres Action|Horror|Thriller        \n",
            "\tSunshine Cleaning (2008)                           rated 4.5  genres Comedy|Drama                  \n",
            "\n",
            "User 13 liked the following:\n",
            "\n",
            "\tBraveheart (1995)                                  rated 5.0  genres Action|Drama|War              \n",
            "\tWhat's Eating Gilbert Grape (1993)                 rated 5.0  genres Drama                         \n",
            "\tNell (1994)                                        rated 5.0  genres Drama                         \n",
            "\tSeven (a.k.a. Se7en) (1995)                        rated 5.0  genres Mystery|Thriller              \n",
            "\tLegends of the Fall (1994)                         rated 5.0  genres Drama|Romance|War|Western     \n",
            "\tBroken Arrow (1996)                                rated 5.0  genres Action|Adventure|Thriller     \n",
            "\tPiano, The (1993)                                  rated 5.0  genres Drama|Romance                 \n",
            "\tWhile You Were Sleeping (1995)                     rated 4.0  genres Comedy|Romance                \n",
            "\tLeaving Las Vegas (1995)                           rated 4.0  genres Drama|Romance                 \n",
            "\tApollo 13 (1995)                                   rated 4.0  genres Adventure|Drama|IMAX          \n",
            "\n",
            "User 111 liked the following:\n",
            "\n",
            "\t10,000 BC (2008)                                   rated 5.0  genres Adventure|Romance|Thriller    \n",
            "\tWhite Water Summer (1987)                          rated 5.0  genres Adventure                     \n",
            "\tCooler, The (2003)                                 rated 5.0  genres Comedy|Drama|Romance          \n",
            "\tTwelve Monkeys (a.k.a. 12 Monkeys) (1995)          rated 5.0  genres Mystery|Sci-Fi|Thriller       \n",
            "\tCradle Will Rock (1999)                            rated 5.0  genres Drama                         \n",
            "\tBuffalo '66 (a.k.a. Buffalo 66) (1998)             rated 5.0  genres Drama|Romance                 \n",
            "\tRoboCop (2014)                                     rated 5.0  genres Action|Crime|Sci-Fi|IMAX      \n",
            "\tStar Wars: Episode IV - A New Hope (1977)          rated 5.0  genres Action|Adventure|Sci-Fi       \n",
            "\tUsual Suspects, The (1995)                         rated 5.0  genres Crime|Mystery|Thriller        \n",
            "\tJane Austen's Mafia! (1998)                        rated 5.0  genres Comedy|Crime                  \n"
          ]
        }
      ],
      "source": [
        "\"\"\"\n",
        "We'll pick three users and see what movies they liked before, and what movies your model predicted.\n",
        "Hopefully there is some correlation!\n",
        "\n",
        "In this cell we first print out some movies that they have liked\n",
        "\"\"\"\n",
        "\n",
        "# Pick three users to recommend movies to\n",
        "users = [1,13, 111]\n",
        "\n",
        "# Let's see their tastes. Print the top-p movies they have rated highly\n",
        "p = 10\n",
        "for user in users:\n",
        "    print(\"\\nUser {} liked the following:\\n\".format(user))\n",
        "    \n",
        "    # Sort the movies for this user in descending order based on the rating\n",
        "    movie_order = np.argsort(-movielens_data[user])\n",
        "    top_p = movie_order[:p]\n",
        "    \n",
        "    # Print the movies\n",
        "    for movie in top_p:\n",
        "        print(\"\\t{:<50} rated {:.1f}  genres {:<30}\".format(movie_names.iloc[movie]['title'], movielens_data_copy[user, movie], movie_names.iloc[movie]['genres']))"
      ]
    },
    {
      "cell_type": "code",
      "execution_count": null,
      "metadata": {
        "id": "kHLaC4ZY3EOT",
        "colab": {
          "base_uri": "https://localhost:8080/"
        },
        "outputId": "2a6e13a1-2e72-4d94-c4b7-191c9c4c81d7"
      },
      "outputs": [
        {
          "output_type": "stream",
          "name": "stdout",
          "text": [
            "\n",
            "Recommend the following movies to User 1\n",
            "\n",
            "\tExorcist II: The Heretic (1977)                              genres Horror                        \n",
            "\tApt Pupil (1998)                                             genres Drama|Thriller                \n",
            "\tAway from Her (2006)                                         genres Drama                         \n",
            "\tWhat's Up, Doc? (1972)                                       genres Comedy                        \n",
            "\tGoonies, The (1985)                                          genres Action|Adventure|Children|Comedy|Fantasy\n",
            "\tPrizzi's Honor (1985)                                        genres Comedy|Drama|Romance          \n",
            "\tEmma (2009)                                                  genres Comedy|Drama|Romance          \n",
            "\tRobin Hood: Men in Tights (1993)                             genres Comedy                        \n",
            "\tJaws 2 (1978)                                                genres Horror|Thriller               \n",
            "\tI'm Still Here (2010)                                        genres Comedy|Drama                  \n",
            "\n",
            "Recommend the following movies to User 13\n",
            "\n",
            "\tAngels and Insects (1995)                                    genres Drama|Romance                 \n",
            "\tPoltergeist III (1988)                                       genres Horror|Thriller               \n",
            "\tCooler, The (2003)                                           genres Comedy|Drama|Romance          \n",
            "\tIndiana Jones and the Last Crusade (1989)                    genres Action|Adventure              \n",
            "\tFrench Kiss (1995)                                           genres Action|Comedy|Romance         \n",
            "\tImmigrant, The (1917)                                        genres Comedy                        \n",
            "\tWhite Water Summer (1987)                                    genres Adventure                     \n",
            "\tFarmer's Daughter, The (1947)                                genres Comedy                        \n",
            "\tNell (1994)                                                  genres Drama                         \n",
            "\tCaptive, The (2014)                                          genres Crime|Drama|Thriller          \n",
            "\n",
            "Recommend the following movies to User 111\n",
            "\n",
            "\tWalk on the Moon, A (1999)                                   genres Drama|Romance                 \n",
            "\tStar Trek: Insurrection (1998)                               genres Action|Drama|Romance|Sci-Fi   \n",
            "\tCooler, The (2003)                                           genres Comedy|Drama|Romance          \n",
            "\tMidnight Cowboy (1969)                                       genres Drama                         \n",
            "\tPulp Fiction (1994)                                          genres Comedy|Crime|Drama|Thriller   \n",
            "\tLawrence of Arabia (1962)                                    genres Adventure|Drama|War           \n",
            "\tCrocodile Dundee in Los Angeles (2001)                       genres Comedy|Drama                  \n",
            "\tAlien (1979)                                                 genres Horror|Sci-Fi                 \n",
            "\tWallace & Gromit: The Best of Aardman Animation (1996)       genres Adventure|Animation|Comedy    \n",
            "\tOctober Sky (1999)                                           genres Drama                         \n"
          ]
        }
      ],
      "source": [
        "\"\"\"\n",
        "User 1 seems to like Comedy and Horror\n",
        "User 13 seems to like Drama and Romance\n",
        "User 111 seems to like Sci-Fi and Adventure\n",
        "\n",
        "Now let's make our predictions on the test data and see what movies we can recommend\n",
        "\n",
        "\"\"\"\n",
        "\n",
        "for user in users:\n",
        "    print(\"\\nRecommend the following movies to User {}\\n\".format(user))\n",
        "    \n",
        "    # Predict the rating for these movies by performing a matrix multiplication between the user and movie vectors\n",
        "    predicted_ratings = A[user,:] @ B\n",
        "    \n",
        "    # If the movie review was observed in the matrix, set it to (-infinity) so that we don't predict it\n",
        "    # We want to predict only from a set of movies which the user has not seen\n",
        "    predicted_ratings[movielens_observed[user]] = -np.inf\n",
        "    \n",
        "    # Choose the top_p movies\n",
        "    predicted_movie_order = np.argsort(-predicted_ratings)\n",
        "    top_p = predicted_movie_order[:p]\n",
        "    \n",
        "    # Print the recommended movies\n",
        "    for movie in top_p:\n",
        "        print(\"\\t{:<60} genres {:<30}\".format(movie_names.iloc[movie]['title'][:60], movie_names.iloc[movie]['genres']))"
      ]
    }
  ],
  "metadata": {
    "colab": {
      "provenance": [],
      "include_colab_link": true
    },
    "kernelspec": {
      "display_name": "Python 3",
      "language": "python",
      "name": "python3"
    },
    "language_info": {
      "codemirror_mode": {
        "name": "ipython",
        "version": 3
      },
      "file_extension": ".py",
      "mimetype": "text/x-python",
      "name": "python",
      "nbconvert_exporter": "python",
      "pygments_lexer": "ipython3",
      "version": "3.8.10"
    }
  },
  "nbformat": 4,
  "nbformat_minor": 0
}